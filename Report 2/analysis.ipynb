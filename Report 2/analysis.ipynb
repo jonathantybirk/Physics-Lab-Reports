{
 "cells": [
  {
   "cell_type": "code",
   "execution_count": 1,
   "metadata": {},
   "outputs": [],
   "source": [
    "import uncertainties as unc\n",
    "import numpy as np\n",
    "import sympy as sp\n",
    "from matplotlib import pyplot as plt\n",
    "from scipy.optimize import curve_fit"
   ]
  },
  {
   "cell_type": "code",
   "execution_count": 2,
   "metadata": {},
   "outputs": [],
   "source": [
    "h = np.array([10, 10, 15, 15, 20, 20])\n",
    "x_delta = np.array([\n",
    "           unc.ufloat(0.045 - 0.002, 0.002), unc.ufloat(0.141 - 0.045, 0.010),\n",
    "           # h = 15 cm\n",
    "           unc.ufloat(0.068, 0.002), unc.ufloat(0.227 - 0.068, 0.008),\n",
    "           # h = 20 cm,\n",
    "           unc.ufloat(0.101 - 0.002, 0.018), unc.ufloat(0.302 - 0.101, 0.060)])\n",
    "t_delta = np.array([\n",
    "           unc.ufloat(0.250,0.030), unc.ufloat(0.250,0.030),\n",
    "           # h = 15 cm\n",
    "           unc.ufloat(0.250,0.030), unc.ufloat(0.250,0.030),\n",
    "           # h = 20 cm\n",
    "           unc.ufloat(0.250,0.030), unc.ufloat(0.250,0.030)])\n",
    "v0 = np.array([\n",
    "      unc.ufloat(0.100,0.020), unc.ufloat(0.260,0.020),\n",
    "      # h = 15 cm\n",
    "      unc.ufloat(0.068,0.030), unc.ufloat(0.467,0.030),\n",
    "      # h = 20 cm,\n",
    "      unc.ufloat(0.133,0.053), unc.ufloat(0.620,0.080)])\n",
    "a = np.array([\n",
    "     unc.ufloat(0.823,0.070), unc.ufloat(0.858,0.099),\n",
    "     # h = 15 cm\n",
    "     unc.ufloat(1.690,0.350), unc.ufloat(1.436, 0.094),\n",
    "     # h = 20 cm\n",
    "     unc.ufloat(1.932, 0.160), unc.ufloat(1.990, 0.110)])\n"
   ]
  },
  {
   "cell_type": "code",
   "execution_count": 3,
   "metadata": {},
   "outputs": [],
   "source": [
    "xnom = np.array([x.nominal_value for x in x_delta])\n",
    "x_unc = np.array([x.std_dev for x in x_delta])\n",
    "tnom = np.array([t.nominal_value for t in t_delta])\n",
    "t_unc = np.array([t.std_dev for t in t_delta])\n",
    "vnom = np.array([v.nominal_value for v in v0])\n",
    "v_unc = np.array([v.std_dev for v in v0])\n",
    "anom = np.array([a.nominal_value for a in a])\n",
    "a_unc = np.array([a.std_dev for a in a])"
   ]
  },
  {
   "cell_type": "code",
   "execution_count": 8,
   "metadata": {},
   "outputs": [
    {
     "data": {
      "text/plain": [
       "0.49978978371771476+/-0.03714505783403132"
      ]
     },
     "metadata": {},
     "output_type": "display_data"
    },
    {
     "data": {
      "text/plain": [
       "0.9477993188357252+/-0.11543034419528482"
      ]
     },
     "metadata": {},
     "output_type": "display_data"
    },
    {
     "data": {
      "image/png": "[encoded data removed]",
      "text/plain": [
       "<Figure size 640x480 with 1 Axes>"
      ]
     },
     "metadata": {},
     "output_type": "display_data"
    }
   ],
   "source": [
    "pi1 = a*t_delta / v0\n",
    "pi2 = x_delta / (v0*t_delta)\n",
    "\n",
    "pi1_nom = np.array([x.nominal_value for x in pi1])\n",
    "pi1_unc = np.array([x.std_dev for x in pi1])\n",
    "pi2_nom = np.array([x.nominal_value for x in pi2])\n",
    "pi2_unc = np.array([x.std_dev for x in pi2])\n",
    "\n",
    "parameters, covariance = curve_fit(lambda x, a, b: a*x + b, pi1_nom, pi2_nom)\n",
    "\n",
    "display(unc.ufloat(parameters[0], np.sqrt(covariance[0,0])))\n",
    "display(unc.ufloat(parameters[1], np.sqrt(covariance[1,1])))\n",
    "\n",
    "x_values = np.linspace(0,9,100)\n",
    "\n",
    "plt.figure()\n",
    "\n",
    "plt.plot(pi1_nom,pi2_nom, 'o')\n",
    "plt.errorbar(pi1_nom, pi2_nom, xerr=pi1_unc, yerr=pi2_unc, fmt='o')\n",
    "\n",
    "(plt.plot(x_values, parameters[0]*x_values + parameters[1], 'r--'))\n",
    "\n",
    "plt.xlabel(\"π1 = x / (v*t)\")\n",
    "plt.ylabel(\"π2 = a*t / v\")\n",
    "\n",
    "plt.show()"
   ]
  }
 ],
 "metadata": {
  "kernelspec": {
   "display_name": "Python 3",
   "language": "python",
   "name": "python3"
  },
  "language_info": {
   "codemirror_mode": {
    "name": "ipython",
    "version": 3
   },
   "file_extension": ".py",
   "mimetype": "text/x-python",
   "name": "python",
   "nbconvert_exporter": "python",
   "pygments_lexer": "ipython3",
   "version": "3.11.1"
  }
 },
 "nbformat": 4,
 "nbformat_minor": 2
}

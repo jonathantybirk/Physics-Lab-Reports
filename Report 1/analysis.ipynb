{
 "cells": [
  {
   "cell_type": "code",
   "execution_count": 105,
   "metadata": {},
   "outputs": [],
   "source": [
    "import uncertainties as unc\n",
    "import numpy as np\n",
    "\n",
    "from scipy.optimize import curve_fit\n",
    "import matplotlib.pyplot as plt"
   ]
  },
  {
   "cell_type": "markdown",
   "metadata": {},
   "source": [
    "# Measurements"
   ]
  },
  {
   "cell_type": "code",
   "execution_count": 106,
   "metadata": {},
   "outputs": [
    {
     "data": {
      "text/plain": [
       "0"
      ]
     },
     "metadata": {},
     "output_type": "display_data"
    },
    {
     "data": {
      "text/plain": [
       "21.5+/-0.5"
      ]
     },
     "metadata": {},
     "output_type": "display_data"
    },
    {
     "data": {
      "text/plain": [
       "-2.1976000000000004+/-0.00025298221281344244"
      ]
     },
     "metadata": {},
     "output_type": "display_data"
    }
   ],
   "source": [
    "w1 = 0\n",
    "x1 = unc.ufloat(21.5, 0.5)\n",
    "\n",
    "data1 = np.array([-2.198, -2.197, -2.199, -2.198, -2.197, -2.196, -2.198, -2.198, -2.197, -2.198])\n",
    "\n",
    "F1 = unc.ufloat(np.mean(data1), np.std(data1) / np.sqrt(len(data1)))\n",
    "\n",
    "display(w1, x1, F1)"
   ]
  },
  {
   "cell_type": "code",
   "execution_count": 114,
   "metadata": {},
   "outputs": [
    {
     "data": {
      "text/plain": [
       "20"
      ]
     },
     "metadata": {},
     "output_type": "display_data"
    },
    {
     "data": {
      "text/plain": [
       "23.0+/-0.5"
      ]
     },
     "metadata": {},
     "output_type": "display_data"
    },
    {
     "data": {
      "text/plain": [
       "-2.3898+/-0.0009359487165437905"
      ]
     },
     "metadata": {},
     "output_type": "display_data"
    }
   ],
   "source": [
    "w2 = 20\n",
    "x2 = unc.ufloat(23.0, 0.5)\n",
    "\n",
    "data2 = np.array([-2.387, -2.389, -2.386, -2.393, -2.388, -2.390, -2.396, -2.390, -2.387, -2.392])\n",
    "\n",
    "F2 = unc.ufloat(np.mean(data2), np.std(data2) / np.sqrt(len(data2)))\n",
    "\n",
    "display(w2, x2, F2)"
   ]
  },
  {
   "cell_type": "code",
   "execution_count": 108,
   "metadata": {},
   "outputs": [
    {
     "data": {
      "text/plain": [
       "40.0+/-0.04"
      ]
     },
     "metadata": {},
     "output_type": "display_data"
    },
    {
     "data": {
      "text/plain": [
       "24.0+/-0.25"
      ]
     },
     "metadata": {},
     "output_type": "display_data"
    },
    {
     "data": {
      "text/plain": [
       "-2.5913+/-0.00040124805295478757"
      ]
     },
     "metadata": {},
     "output_type": "display_data"
    }
   ],
   "source": [
    "w3 = unc.ufloat(40,0.04)\n",
    "x3 = unc.ufloat(24.0, 0.25)\n",
    "\n",
    "data3 = np.array([-2.593, -2.591, -2.592, -2.589, -2.590, -2.592, -2.593, -2.590, -2.592, -2.591])\n",
    "\n",
    "F3 = unc.ufloat(np.mean(data3), np.std(data3) / np.sqrt(len(data3)))\n",
    "\n",
    "display(w3, x3, F3)"
   ]
  },
  {
   "cell_type": "code",
   "execution_count": 109,
   "metadata": {},
   "outputs": [
    {
     "data": {
      "text/plain": [
       "60.0+/-0.04"
      ]
     },
     "metadata": {},
     "output_type": "display_data"
    },
    {
     "data": {
      "text/plain": [
       "25.5+/-0.25"
      ]
     },
     "metadata": {},
     "output_type": "display_data"
    },
    {
     "data": {
      "text/plain": [
       "-2.7881+/-0.00047853944456022256"
      ]
     },
     "metadata": {},
     "output_type": "display_data"
    }
   ],
   "source": [
    "w4 = unc.ufloat(60,0.04)\n",
    "\n",
    "x4 = unc.ufloat(25.5, 0.25)\n",
    "\n",
    "data4 = np.array([-2.790, -2.789, -2.789, -2.789, -2.789, -2.789, -2.785, -2.788, -2.787, -2.786])\n",
    "\n",
    "F4 = unc.ufloat(np.mean(data4), np.std(data4) / np.sqrt(len(data4)))\n",
    "\n",
    "display(w4, x4, F4)"
   ]
  },
  {
   "cell_type": "code",
   "execution_count": 110,
   "metadata": {},
   "outputs": [
    {
     "data": {
      "text/plain": [
       "80.0+/-0.04"
      ]
     },
     "metadata": {},
     "output_type": "display_data"
    },
    {
     "data": {
      "text/plain": [
       "27.0+/-0.25"
      ]
     },
     "metadata": {},
     "output_type": "display_data"
    },
    {
     "data": {
      "text/plain": [
       "-2.9943+/-0.00020248456731317206"
      ]
     },
     "metadata": {},
     "output_type": "display_data"
    }
   ],
   "source": [
    "w5 = unc.ufloat(80,0.04)\n",
    "\n",
    "x5 = unc.ufloat(27.0, 0.25)\n",
    "\n",
    "data5 = np.array([-2.995, -2.994, -2.994, -2.995, -2.993, -2.994, -2.995, -2.995, -2.994, -2.994])\n",
    "\n",
    "F5 = unc.ufloat(np.mean(data5), np.std(data5) / np.sqrt(len(data5)))\n",
    "\n",
    "display(w5, x5, F5)"
   ]
  },
  {
   "cell_type": "code",
   "execution_count": 111,
   "metadata": {},
   "outputs": [
    {
     "data": {
      "text/plain": [
       "100.0+/-0.04"
      ]
     },
     "metadata": {},
     "output_type": "display_data"
    },
    {
     "data": {
      "text/plain": [
       "28.0+/-0.25"
      ]
     },
     "metadata": {},
     "output_type": "display_data"
    },
    {
     "data": {
      "text/plain": [
       "-3.2039+/-0.0003301514803843969"
      ]
     },
     "metadata": {},
     "output_type": "display_data"
    }
   ],
   "source": [
    "w6 = unc.ufloat(100,0.04)\n",
    "\n",
    "x6 = unc.ufloat(28.0, 0.25)\n",
    "\n",
    "data6 = np.array([-3.204, -3.204, -3.206, -3.204, -3.203, -3.204, -3.203, -3.202, -3.204, -3.205])\n",
    "\n",
    "F6 = unc.ufloat(np.mean(data6), np.std(data6) / np.sqrt(len(data6)))\n",
    "\n",
    "display(w6, x6, F6)"
   ]
  },
  {
   "cell_type": "markdown",
   "metadata": {},
   "source": [
    "# Analysis"
   ]
  },
  {
   "cell_type": "code",
   "execution_count": 126,
   "metadata": {},
   "outputs": [
    {
     "data": {
      "text/plain": [
       "[-2.1976000000000004, -2.3898, -2.5913, -2.7881, -2.9943, -3.2039]"
      ]
     },
     "execution_count": 126,
     "metadata": {},
     "output_type": "execute_result"
    }
   ],
   "source": [
    "w = [w1,w2,w2,w4,w5,w6]\n",
    "x = [x1.nominal_value,x2.nominal_value,x3.nominal_value,x4.nominal_value,x5.nominal_value,x6.nominal_value]\n",
    "F = [F1.nominal_value,F2.nominal_value,F3.nominal_value,F4.nominal_value,F5.nominal_value,F6.nominal_value]\n",
    "\n",
    "x_unc = [x1.std_dev,x2.std_dev,x3.std_dev,x4.std_dev,x5.std_dev,x6.std_dev]\n",
    "F_unc = [F1.std_dev,F2.std_dev,F3.std_dev,F4.std_dev,F5.std_dev,F6.std_dev]\n",
    "\n",
    "F"
   ]
  },
  {
   "cell_type": "code",
   "execution_count": 128,
   "metadata": {},
   "outputs": [
    {
     "data": {
      "image/png": "[encoded data removed]",
      "text/plain": [
       "<Figure size 640x480 with 1 Axes>"
      ]
     },
     "metadata": {},
     "output_type": "display_data"
    },
    {
     "data": {
      "text/plain": [
       "-0.15250604387238742+/-0.005001482238789295"
      ]
     },
     "metadata": {},
     "output_type": "display_data"
    },
    {
     "data": {
      "text/plain": [
       "1.0930667561642877+/-0.12471153687693362"
      ]
     },
     "metadata": {},
     "output_type": "display_data"
    }
   ],
   "source": [
    "def f(x,A,B):\n",
    "    return A*x+B\n",
    "\n",
    "parameters, covariance = curve_fit(f,x,F)\n",
    "\n",
    "x_values = np.linspace(20,30,100)\n",
    "\n",
    "plt.figure()\n",
    "\n",
    "plt.plot(x,F, 'r+')\n",
    "plt.errorbar(x, F, xerr=x_unc, yerr=F_unc, fmt='o')\n",
    "\n",
    "plt.plot(x_values,f(x_values,*parameters), 'r--')\n",
    "\n",
    "plt.xlabel(\"x (cm)\")\n",
    "plt.ylabel(\"F (N)\")\n",
    "\n",
    "plt.show()\n",
    "\n",
    "display(unc.ufloat(parameters[0], np.sqrt(covariance[0,0])))\n",
    "\n",
    "display(unc.ufloat(parameters[1], np.sqrt(covariance[1,1])))"
   ]
  }
 ],
 "metadata": {
  "kernelspec": {
   "display_name": "Python 3",
   "language": "python",
   "name": "python3"
  },
  "language_info": {
   "codemirror_mode": {
    "name": "ipython",
    "version": 3
   },
   "file_extension": ".py",
   "mimetype": "text/x-python",
   "name": "python",
   "nbconvert_exporter": "python",
   "pygments_lexer": "ipython3",
   "version": "3.11.1"
  }
 },
 "nbformat": 4,
 "nbformat_minor": 2
}
